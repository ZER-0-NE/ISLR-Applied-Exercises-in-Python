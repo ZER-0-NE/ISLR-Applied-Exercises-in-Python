{
 "cells": [
  {
   "cell_type": "code",
   "execution_count": 2,
   "metadata": {},
   "outputs": [],
   "source": [
    "import pandas as pd\n",
    "import numpy as np\n",
    "\n",
    "from sklearn.model_selection import train_test_split\n",
    "from sklearn.linear_model import LogisticRegression, LinearRegression\n",
    "from sklearn.metrics import accuracy_score\n",
    "from sklearn.preprocessing import PolynomialFeatures\n",
    "from sklearn.model_selection import cross_val_score\n",
    "\n",
    "import statsmodels.api as sm\n",
    "\n",
    "import matplotlib.pyplot as plt\n",
    "import seaborn as sns\n",
    "\n",
    "# to ignore warnings\n",
    "import warnings\n",
    "warnings.filterwarnings(\"ignore\", category=FutureWarning)"
   ]
  },
  {
   "cell_type": "code",
   "execution_count": 2,
   "metadata": {},
   "outputs": [
    {
     "name": "stdout",
     "output_type": "stream",
     "text": [
      "(10000, 4)\n"
     ]
    },
    {
     "data": {
      "text/html": [
       "<div>\n",
       "<style scoped>\n",
       "    .dataframe tbody tr th:only-of-type {\n",
       "        vertical-align: middle;\n",
       "    }\n",
       "\n",
       "    .dataframe tbody tr th {\n",
       "        vertical-align: top;\n",
       "    }\n",
       "\n",
       "    .dataframe thead th {\n",
       "        text-align: right;\n",
       "    }\n",
       "</style>\n",
       "<table border=\"1\" class=\"dataframe\">\n",
       "  <thead>\n",
       "    <tr style=\"text-align: right;\">\n",
       "      <th></th>\n",
       "      <th>default</th>\n",
       "      <th>student</th>\n",
       "      <th>balance</th>\n",
       "      <th>income</th>\n",
       "    </tr>\n",
       "  </thead>\n",
       "  <tbody>\n",
       "    <tr>\n",
       "      <th>0</th>\n",
       "      <td>No</td>\n",
       "      <td>No</td>\n",
       "      <td>729.526495</td>\n",
       "      <td>44361.625074</td>\n",
       "    </tr>\n",
       "    <tr>\n",
       "      <th>1</th>\n",
       "      <td>No</td>\n",
       "      <td>Yes</td>\n",
       "      <td>817.180407</td>\n",
       "      <td>12106.134700</td>\n",
       "    </tr>\n",
       "    <tr>\n",
       "      <th>2</th>\n",
       "      <td>No</td>\n",
       "      <td>No</td>\n",
       "      <td>1073.549164</td>\n",
       "      <td>31767.138947</td>\n",
       "    </tr>\n",
       "    <tr>\n",
       "      <th>3</th>\n",
       "      <td>No</td>\n",
       "      <td>No</td>\n",
       "      <td>529.250605</td>\n",
       "      <td>35704.493935</td>\n",
       "    </tr>\n",
       "    <tr>\n",
       "      <th>4</th>\n",
       "      <td>No</td>\n",
       "      <td>No</td>\n",
       "      <td>785.655883</td>\n",
       "      <td>38463.495879</td>\n",
       "    </tr>\n",
       "  </tbody>\n",
       "</table>\n",
       "</div>"
      ],
      "text/plain": [
       "  default student      balance        income\n",
       "0      No      No   729.526495  44361.625074\n",
       "1      No     Yes   817.180407  12106.134700\n",
       "2      No      No  1073.549164  31767.138947\n",
       "3      No      No   529.250605  35704.493935\n",
       "4      No      No   785.655883  38463.495879"
      ]
     },
     "execution_count": 2,
     "metadata": {},
     "output_type": "execute_result"
    }
   ],
   "source": [
    "# 5. In Chapter 4, we used logistic regression to predict the probability of default using income and balance \n",
    "# on the Default data set. We will now estimate the test error of this logistic regression model using the \n",
    "# set approach. Do not forget to set a random seed before beginning your analysis.\n",
    "\n",
    "default = pd.read_csv('/home/abhishek/Desktop/ISLR-Applied-Exercises-in-Python/data/Default.csv')\n",
    "print(default.shape)\n",
    "\n",
    "default.head()"
   ]
  },
  {
   "cell_type": "code",
   "execution_count": 3,
   "metadata": {},
   "outputs": [
    {
     "data": {
      "text/html": [
       "<div>\n",
       "<style scoped>\n",
       "    .dataframe tbody tr th:only-of-type {\n",
       "        vertical-align: middle;\n",
       "    }\n",
       "\n",
       "    .dataframe tbody tr th {\n",
       "        vertical-align: top;\n",
       "    }\n",
       "\n",
       "    .dataframe thead th {\n",
       "        text-align: right;\n",
       "    }\n",
       "</style>\n",
       "<table border=\"1\" class=\"dataframe\">\n",
       "  <thead>\n",
       "    <tr style=\"text-align: right;\">\n",
       "      <th></th>\n",
       "      <th>default</th>\n",
       "      <th>student</th>\n",
       "      <th>balance</th>\n",
       "      <th>income</th>\n",
       "    </tr>\n",
       "  </thead>\n",
       "  <tbody>\n",
       "    <tr>\n",
       "      <th>0</th>\n",
       "      <td>0</td>\n",
       "      <td>No</td>\n",
       "      <td>729.526495</td>\n",
       "      <td>44361.625074</td>\n",
       "    </tr>\n",
       "    <tr>\n",
       "      <th>1</th>\n",
       "      <td>0</td>\n",
       "      <td>Yes</td>\n",
       "      <td>817.180407</td>\n",
       "      <td>12106.134700</td>\n",
       "    </tr>\n",
       "    <tr>\n",
       "      <th>2</th>\n",
       "      <td>0</td>\n",
       "      <td>No</td>\n",
       "      <td>1073.549164</td>\n",
       "      <td>31767.138947</td>\n",
       "    </tr>\n",
       "    <tr>\n",
       "      <th>3</th>\n",
       "      <td>0</td>\n",
       "      <td>No</td>\n",
       "      <td>529.250605</td>\n",
       "      <td>35704.493935</td>\n",
       "    </tr>\n",
       "    <tr>\n",
       "      <th>4</th>\n",
       "      <td>0</td>\n",
       "      <td>No</td>\n",
       "      <td>785.655883</td>\n",
       "      <td>38463.495879</td>\n",
       "    </tr>\n",
       "  </tbody>\n",
       "</table>\n",
       "</div>"
      ],
      "text/plain": [
       "   default student      balance        income\n",
       "0        0      No   729.526495  44361.625074\n",
       "1        0     Yes   817.180407  12106.134700\n",
       "2        0      No  1073.549164  31767.138947\n",
       "3        0      No   529.250605  35704.493935\n",
       "4        0      No   785.655883  38463.495879"
      ]
     },
     "execution_count": 3,
     "metadata": {},
     "output_type": "execute_result"
    }
   ],
   "source": [
    "encoding_dict = {'Yes':1, 'No': 0}\n",
    "default['default'] = default['default'].map(encoding_dict)\n",
    "default.head()"
   ]
  },
  {
   "cell_type": "code",
   "execution_count": 4,
   "metadata": {},
   "outputs": [
    {
     "name": "stdout",
     "output_type": "stream",
     "text": [
      "Train accuracy is: 0.9737\n"
     ]
    }
   ],
   "source": [
    "# (a) Fit a logistic regression model that uses income and balance to predict default.\n",
    "\n",
    "lr = LogisticRegression().fit(default[['income', 'balance']], default['default'])\n",
    "\n",
    "pred = lr.predict(default[['income', 'balance']])\n",
    "print(f\"Train accuracy is: {accuracy_score( default['default'], pred)}\")"
   ]
  },
  {
   "cell_type": "code",
   "execution_count": 5,
   "metadata": {},
   "outputs": [
    {
     "name": "stdout",
     "output_type": "stream",
     "text": [
      "Shape of X_train  (7000, 2)\n",
      "Shape of X_valid  (3000, 2)\n"
     ]
    }
   ],
   "source": [
    "# (b) Using the validation set approach, estimate the test error of this model.\n",
    "\n",
    "# splitting the data into train and test\n",
    "X_train,X_valid,y_train,y_valid = train_test_split(default.drop(['default','student'],axis = 1),default['default'],test_size = 0.3,\n",
    "                                                  random_state = 0)\n",
    "print('Shape of X_train ',X_train.shape)\n",
    "print('Shape of X_valid ',X_valid.shape)"
   ]
  },
  {
   "cell_type": "code",
   "execution_count": 6,
   "metadata": {},
   "outputs": [],
   "source": [
    "# fit logistic regression on training data\n",
    "lr = LogisticRegression().fit(X_train, y_train)\n",
    "\n",
    "pred = lr.predict(X_valid)"
   ]
  },
  {
   "cell_type": "code",
   "execution_count": 7,
   "metadata": {},
   "outputs": [
    {
     "name": "stdout",
     "output_type": "stream",
     "text": [
      "Validation error is  0.02733333333333332\n"
     ]
    }
   ],
   "source": [
    "# computing the validation error\n",
    "print('Validation error is ', 1 - accuracy_score(pred,y_valid))"
   ]
  },
  {
   "cell_type": "code",
   "execution_count": 8,
   "metadata": {},
   "outputs": [
    {
     "name": "stdout",
     "output_type": "stream",
     "text": [
      "Shape of X_train  (7000, 2)\n",
      "Shape of X_valid  (3000, 2)\n",
      "Validation error is  0.024666666666666615\n"
     ]
    }
   ],
   "source": [
    "# (c) Repeat the process in (b) three times, using three different splits of the observations into a training \n",
    "# set and a validation set. Comment on the results obtained.\n",
    "\n",
    "# random_state = 1\n",
    "# splitting the data into train and test\n",
    "X_train,X_valid,y_train,y_valid = train_test_split(default.drop(['default','student'],axis = 1),default['default'],test_size = 0.3,\n",
    "                                                  random_state = 1)\n",
    "print('Shape of X_train ',X_train.shape)\n",
    "print('Shape of X_valid ',X_valid.shape)\n",
    "\n",
    "# fit the logisitc regression on training data\n",
    "lr = LogisticRegression()\n",
    "lr.fit(X_train,y_train)\n",
    "\n",
    "# obtain the predictions\n",
    "pred = lr.predict(X_valid)\n",
    "\n",
    "# computing the validation error\n",
    "print('Validation error is ', 1 - accuracy_score(pred,y_valid))"
   ]
  },
  {
   "cell_type": "code",
   "execution_count": 9,
   "metadata": {},
   "outputs": [
    {
     "name": "stdout",
     "output_type": "stream",
     "text": [
      "Shape of X_train  (7000, 2)\n",
      "Shape of X_valid  (3000, 2)\n",
      "Validation error is  0.03400000000000003\n"
     ]
    }
   ],
   "source": [
    "# random_state = 5\n",
    "# splitting the data into train and test\n",
    "X_train,X_valid,y_train,y_valid = train_test_split(default.drop(['default','student'],axis = 1),default['default'],test_size = 0.3,\n",
    "                                                  random_state = 5)\n",
    "print('Shape of X_train ',X_train.shape)\n",
    "print('Shape of X_valid ',X_valid.shape)\n",
    "\n",
    "# fit the logisitc regression on training data\n",
    "lr = LogisticRegression()\n",
    "lr.fit(X_train,y_train)\n",
    "\n",
    "# obtain the predictions\n",
    "pred = lr.predict(X_valid)\n",
    "\n",
    "# computing the validation error\n",
    "print('Validation error is ', 1 - accuracy_score(pred,y_valid))"
   ]
  },
  {
   "cell_type": "code",
   "execution_count": 10,
   "metadata": {},
   "outputs": [
    {
     "name": "stdout",
     "output_type": "stream",
     "text": [
      "Shape of X_train  (7000, 2)\n",
      "Shape of X_valid  (3000, 2)\n",
      "Validation error is  0.037666666666666626\n"
     ]
    }
   ],
   "source": [
    "# random_state = 10\n",
    "# splitting the data into train and test\n",
    "X_train,X_valid,y_train,y_valid = train_test_split(default.drop(['default','student'],axis = 1),default['default'],test_size = 0.3,\n",
    "                                                  random_state = 10)\n",
    "print('Shape of X_train ',X_train.shape)\n",
    "print('Shape of X_valid ',X_valid.shape)\n",
    "\n",
    "# fit the logisitc regression on training data\n",
    "lr = LogisticRegression()\n",
    "lr.fit(X_train,y_train)\n",
    "\n",
    "# obtain the predictions\n",
    "pred = lr.predict(X_valid)\n",
    "\n",
    "# computing the validation error\n",
    "print('Validation error is ', 1 - accuracy_score(pred,y_valid))"
   ]
  },
  {
   "cell_type": "code",
   "execution_count": 11,
   "metadata": {},
   "outputs": [],
   "source": [
    "# (d) Now consider a logistic regression model that predicts the probability of default using income, balance, \n",
    "# and a dummy variable for student. Estimate the test error for this model using the validation set approach. \n",
    "# Comment on whether or not including a dummy variable for student leads to a reduction in the test error rate.\n",
    "\n",
    "default['student'] = default['student'].map(encoding_dict)"
   ]
  },
  {
   "cell_type": "code",
   "execution_count": 12,
   "metadata": {},
   "outputs": [
    {
     "data": {
      "text/html": [
       "<div>\n",
       "<style scoped>\n",
       "    .dataframe tbody tr th:only-of-type {\n",
       "        vertical-align: middle;\n",
       "    }\n",
       "\n",
       "    .dataframe tbody tr th {\n",
       "        vertical-align: top;\n",
       "    }\n",
       "\n",
       "    .dataframe thead th {\n",
       "        text-align: right;\n",
       "    }\n",
       "</style>\n",
       "<table border=\"1\" class=\"dataframe\">\n",
       "  <thead>\n",
       "    <tr style=\"text-align: right;\">\n",
       "      <th></th>\n",
       "      <th>default</th>\n",
       "      <th>student</th>\n",
       "      <th>balance</th>\n",
       "      <th>income</th>\n",
       "    </tr>\n",
       "  </thead>\n",
       "  <tbody>\n",
       "    <tr>\n",
       "      <th>0</th>\n",
       "      <td>0</td>\n",
       "      <td>0</td>\n",
       "      <td>729.526495</td>\n",
       "      <td>44361.625074</td>\n",
       "    </tr>\n",
       "    <tr>\n",
       "      <th>1</th>\n",
       "      <td>0</td>\n",
       "      <td>1</td>\n",
       "      <td>817.180407</td>\n",
       "      <td>12106.134700</td>\n",
       "    </tr>\n",
       "    <tr>\n",
       "      <th>2</th>\n",
       "      <td>0</td>\n",
       "      <td>0</td>\n",
       "      <td>1073.549164</td>\n",
       "      <td>31767.138947</td>\n",
       "    </tr>\n",
       "    <tr>\n",
       "      <th>3</th>\n",
       "      <td>0</td>\n",
       "      <td>0</td>\n",
       "      <td>529.250605</td>\n",
       "      <td>35704.493935</td>\n",
       "    </tr>\n",
       "    <tr>\n",
       "      <th>4</th>\n",
       "      <td>0</td>\n",
       "      <td>0</td>\n",
       "      <td>785.655883</td>\n",
       "      <td>38463.495879</td>\n",
       "    </tr>\n",
       "  </tbody>\n",
       "</table>\n",
       "</div>"
      ],
      "text/plain": [
       "   default  student      balance        income\n",
       "0        0        0   729.526495  44361.625074\n",
       "1        0        1   817.180407  12106.134700\n",
       "2        0        0  1073.549164  31767.138947\n",
       "3        0        0   529.250605  35704.493935\n",
       "4        0        0   785.655883  38463.495879"
      ]
     },
     "execution_count": 12,
     "metadata": {},
     "output_type": "execute_result"
    }
   ],
   "source": [
    "default.head()"
   ]
  },
  {
   "cell_type": "code",
   "execution_count": 13,
   "metadata": {},
   "outputs": [
    {
     "name": "stdout",
     "output_type": "stream",
     "text": [
      "Shape of X_train: (7000, 3)\n",
      "Shape of X_valid: (3000, 3)\n",
      "Validation error is  0.036666666666666625\n"
     ]
    }
   ],
   "source": [
    "X_train, X_val, y_train, y_val = train_test_split(default.drop(['default'], axis = 1), default['default'], test_size = 0.3, random_state = 0)\n",
    "\n",
    "print(f\"Shape of X_train: {X_train.shape}\")\n",
    "print(f\"Shape of X_valid: {X_val.shape}\")\n",
    "\n",
    "# fit logit_reg\n",
    "lr = LogisticRegression().fit(X_train, y_train)\n",
    "\n",
    "pred = lr.predict(X_val)\n",
    "print('Validation error is ', 1 - accuracy_score(y_val, pred))"
   ]
  },
  {
   "cell_type": "code",
   "execution_count": 14,
   "metadata": {},
   "outputs": [
    {
     "name": "stdout",
     "output_type": "stream",
     "text": [
      "(10000, 4)\n"
     ]
    },
    {
     "data": {
      "text/html": [
       "<div>\n",
       "<style scoped>\n",
       "    .dataframe tbody tr th:only-of-type {\n",
       "        vertical-align: middle;\n",
       "    }\n",
       "\n",
       "    .dataframe tbody tr th {\n",
       "        vertical-align: top;\n",
       "    }\n",
       "\n",
       "    .dataframe thead th {\n",
       "        text-align: right;\n",
       "    }\n",
       "</style>\n",
       "<table border=\"1\" class=\"dataframe\">\n",
       "  <thead>\n",
       "    <tr style=\"text-align: right;\">\n",
       "      <th></th>\n",
       "      <th>default</th>\n",
       "      <th>student</th>\n",
       "      <th>balance</th>\n",
       "      <th>income</th>\n",
       "    </tr>\n",
       "  </thead>\n",
       "  <tbody>\n",
       "    <tr>\n",
       "      <th>0</th>\n",
       "      <td>0</td>\n",
       "      <td>0</td>\n",
       "      <td>729.526495</td>\n",
       "      <td>44361.625074</td>\n",
       "    </tr>\n",
       "    <tr>\n",
       "      <th>1</th>\n",
       "      <td>0</td>\n",
       "      <td>1</td>\n",
       "      <td>817.180407</td>\n",
       "      <td>12106.134700</td>\n",
       "    </tr>\n",
       "    <tr>\n",
       "      <th>2</th>\n",
       "      <td>0</td>\n",
       "      <td>0</td>\n",
       "      <td>1073.549164</td>\n",
       "      <td>31767.138947</td>\n",
       "    </tr>\n",
       "    <tr>\n",
       "      <th>3</th>\n",
       "      <td>0</td>\n",
       "      <td>0</td>\n",
       "      <td>529.250605</td>\n",
       "      <td>35704.493935</td>\n",
       "    </tr>\n",
       "    <tr>\n",
       "      <th>4</th>\n",
       "      <td>0</td>\n",
       "      <td>0</td>\n",
       "      <td>785.655883</td>\n",
       "      <td>38463.495879</td>\n",
       "    </tr>\n",
       "  </tbody>\n",
       "</table>\n",
       "</div>"
      ],
      "text/plain": [
       "   default  student      balance        income\n",
       "0        0        0   729.526495  44361.625074\n",
       "1        0        1   817.180407  12106.134700\n",
       "2        0        0  1073.549164  31767.138947\n",
       "3        0        0   529.250605  35704.493935\n",
       "4        0        0   785.655883  38463.495879"
      ]
     },
     "execution_count": 14,
     "metadata": {},
     "output_type": "execute_result"
    }
   ],
   "source": [
    "# 6. We continue to consider the use of a logistic regression model to predict the probability of default \n",
    "# using income and balance on the Default data set. In particular, we will now compute estimates for the \n",
    "# standard errors of the income and balance logistic regression coefficients in two different ways: (1) using \n",
    "# the bootstrap, and (2) using the standard formula for computing the standard errors in the glm() function. \n",
    "# Do not forget to set a random seed before beginning your analysis.\n",
    "\n",
    "print(default.shape)\n",
    "default.head()"
   ]
  },
  {
   "cell_type": "code",
   "execution_count": 41,
   "metadata": {},
   "outputs": [
    {
     "name": "stdout",
     "output_type": "stream",
     "text": [
      "Optimization terminated successfully.\n",
      "         Current function value: 0.078948\n",
      "         Iterations 10\n",
      "                           Logit Regression Results                           \n",
      "==============================================================================\n",
      "Dep. Variable:                default   No. Observations:                10000\n",
      "Model:                          Logit   Df Residuals:                     9997\n",
      "Method:                           MLE   Df Model:                            2\n",
      "Date:                Fri, 06 Nov 2020   Pseudo R-squ.:                  0.4594\n",
      "Time:                        10:45:40   Log-Likelihood:                -789.48\n",
      "converged:                       True   LL-Null:                       -1460.3\n",
      "Covariance Type:            nonrobust   LLR p-value:                4.541e-292\n",
      "==============================================================================\n",
      "                 coef    std err          z      P>|z|      [0.025      0.975]\n",
      "------------------------------------------------------------------------------\n",
      "const        -11.5405      0.435    -26.544      0.000     -12.393     -10.688\n",
      "balance        0.0056      0.000     24.835      0.000       0.005       0.006\n",
      "income      2.081e-05   4.99e-06      4.174      0.000     1.1e-05    3.06e-05\n",
      "==============================================================================\n",
      "\n",
      "Possibly complete quasi-separation: A fraction 0.14 of observations can be\n",
      "perfectly predicted. This might indicate that there is complete\n",
      "quasi-separation. In this case some parameters will not be identified.\n"
     ]
    }
   ],
   "source": [
    "# (a) Using the summary() and glm() functions, determine the estimated standard errors for the coefficients \n",
    "# associated with income and balance in a multiple logistic regression model that uses both predictors.\n",
    "\n",
    "X = default[['balance', 'income']]\n",
    "X = sm.add_constant(X)\n",
    "\n",
    "y = default['default']\n",
    "\n",
    "results = sm.Logit(y,X).fit()\n",
    "print(results.summary())"
   ]
  },
  {
   "cell_type": "code",
   "execution_count": 16,
   "metadata": {},
   "outputs": [],
   "source": [
    "# std error for balance = 0, std error for incomes = 4.99e-06"
   ]
  },
  {
   "cell_type": "code",
   "execution_count": 42,
   "metadata": {},
   "outputs": [],
   "source": [
    "# (b) Write a function, boot.fn(), that takes as input the Default data set as well as an index of the \n",
    "# observations, and that outputs the coefficient estimates for income and balance in the multiple logistic \n",
    "# regression model.\n",
    "\n",
    " \n",
    "def boot_fn(data, index):\n",
    "    X = data[['balance', 'income']].loc[index]\n",
    "    y = data['default'].loc[index]\n",
    "    \n",
    "    lr = LogisticRegression().fit(X,y)\n",
    "    \n",
    "    intercept = lr.intercept_\n",
    "    coef_balance = lr.coef_[0][0]\n",
    "    coef_income = lr.coef_[0][1]\n",
    "    \n",
    "    return [intercept, coef_balance, coef_income]"
   ]
  },
  {
   "cell_type": "code",
   "execution_count": 43,
   "metadata": {},
   "outputs": [],
   "source": [
    "# to get random indices of given size, since the classes are imbalanced, we want the random indeces to \n",
    "# contain both the classes, otherwise it will produce an error, as model can't train if all observations \n",
    "# belong to one class\n",
    "\n",
    "\n",
    "def get_indices(data, num_samples):\n",
    "    positive_data = data[data['default'] == 1]\n",
    "    negative_data = data[data['default'] == 0]\n",
    "    \n",
    "    positive_indices = np.random.choice(positive_data.index, int(num_samples/4), replace=True)\n",
    "    negative_indices = np.random.choice(negative_data.index, int(3*num_samples/4), replace=True)\n",
    "    \n",
    "    total = np.concatenate([positive_indices, negative_indices])\n",
    "    \n",
    "    np.random.shuffle(total)\n",
    "    \n",
    "    return total"
   ]
  },
  {
   "cell_type": "code",
   "execution_count": 44,
   "metadata": {},
   "outputs": [],
   "source": [
    "positive_data = default[default['default'] == 1]\n",
    "negative_data = default[default['default'] == 0]"
   ]
  },
  {
   "cell_type": "code",
   "execution_count": 45,
   "metadata": {},
   "outputs": [
    {
     "name": "stdout",
     "output_type": "stream",
     "text": [
      "333 9667\n"
     ]
    }
   ],
   "source": [
    "print(len(positive_data), len(negative_data))"
   ]
  },
  {
   "cell_type": "code",
   "execution_count": 46,
   "metadata": {},
   "outputs": [
    {
     "data": {
      "text/plain": [
       "array([8539, 3381, 8002, 7697,  675, 3853, 9279, 1381, 8820, 7320, 2244,\n",
       "       8364,    5, 3876, 8939, 2308,  969, 4666, 7426, 7776, 8463,  570,\n",
       "       6542, 5408, 8705, 8652, 4716, 7428, 3523, 3123, 2010, 8677, 3110,\n",
       "       1609, 3550,  207, 4417, 5108, 4589, 5535, 4469, 2706, 1359, 5652,\n",
       "       4634, 9764, 8738, 5787, 9477, 9590,  999, 1160, 3041, 2210, 7581,\n",
       "       7937, 3486, 9328, 7683,  753, 3092, 4680, 1274, 2391, 2180, 3162,\n",
       "       8870, 9422, 6591,  341, 1401, 3984, 6128, 3957,  232, 4688, 7284,\n",
       "        803, 4976, 8222, 8792, 3465, 2694, 7367, 6225, 1701, 9450, 8059,\n",
       "       2002, 8530, 9535, 9682, 2663, 8155, 5432, 1027, 1738, 3544,  761,\n",
       "       3317])"
      ]
     },
     "execution_count": 46,
     "metadata": {},
     "output_type": "execute_result"
    }
   ],
   "source": [
    "get_indices(default, 100)"
   ]
  },
  {
   "cell_type": "code",
   "execution_count": 47,
   "metadata": {},
   "outputs": [
    {
     "name": "stdout",
     "output_type": "stream",
     "text": [
      "Intercept is [-9.35700929], the coeff of balance is 0.005989268036533879 , the coeff for income is 6.84854671656458e-06 \n"
     ]
    }
   ],
   "source": [
    "# example - \n",
    "intercept,coef_balance,coef_income = boot_fn(default,get_indices(default,100))\n",
    "print(f'Intercept is {intercept}, the coeff of balance is {coef_balance} , the coeff for income is {coef_income} ')"
   ]
  },
  {
   "cell_type": "code",
   "execution_count": 48,
   "metadata": {},
   "outputs": [],
   "source": [
    "# (c) Use the boot() function together with your boot.fn() function to estimate the standard errors of the \n",
    "# logistic regression coefficients for income and balance.\n",
    "\n",
    "def boot(data, func, R):\n",
    "    intercept = []\n",
    "    coeff_balance = []\n",
    "    coeff_income = []\n",
    "    \n",
    "    for i in range(R):\n",
    "        [inter, balance, income] = func(data, get_indices(data, 100))\n",
    "        intercept.append(float(inter))\n",
    "        coeff_balance.append(balance)\n",
    "        coeff_income.append(income)\n",
    "    \n",
    "    intercept_statistics = {'estimated_value': np.mean(intercept), 'std_error': np.std(intercept)}\n",
    "    balance_statistics = {'estimated_value': np.mean(coeff_balance), 'std_error': np.std(coeff_balance)}\n",
    "    income_statistics = {'estimated_value': np.mean(coeff_income), 'std_error': np.std(coeff_income)}\n",
    "    \n",
    "    return {'intercept': intercept_statistics, 'balance_statistics': balance_statistics, 'income_statistics': income_statistics}"
   ]
  },
  {
   "cell_type": "code",
   "execution_count": 49,
   "metadata": {},
   "outputs": [],
   "source": [
    "results = boot(default, boot_fn, 1000)"
   ]
  },
  {
   "cell_type": "code",
   "execution_count": 50,
   "metadata": {},
   "outputs": [
    {
     "name": "stdout",
     "output_type": "stream",
     "text": [
      "Balance -  {'estimated_value': 0.0031487498890436704, 'std_error': 0.0024130115455771334}\n",
      "Income -  {'estimated_value': -4.7365889038438616e-05, 'std_error': 5.32159721476787e-05}\n"
     ]
    }
   ],
   "source": [
    "print('Balance - ', results['balance_statistics'])\n",
    "print('Income - ', results['income_statistics'])"
   ]
  },
  {
   "cell_type": "code",
   "execution_count": 51,
   "metadata": {},
   "outputs": [],
   "source": [
    "# we can see that the standard errors obtained from model and from boostrap are similar"
   ]
  },
  {
   "cell_type": "code",
   "execution_count": 52,
   "metadata": {},
   "outputs": [
    {
     "name": "stdout",
     "output_type": "stream",
     "text": [
      "(1089, 9)\n"
     ]
    },
    {
     "data": {
      "text/html": [
       "<div>\n",
       "<style scoped>\n",
       "    .dataframe tbody tr th:only-of-type {\n",
       "        vertical-align: middle;\n",
       "    }\n",
       "\n",
       "    .dataframe tbody tr th {\n",
       "        vertical-align: top;\n",
       "    }\n",
       "\n",
       "    .dataframe thead th {\n",
       "        text-align: right;\n",
       "    }\n",
       "</style>\n",
       "<table border=\"1\" class=\"dataframe\">\n",
       "  <thead>\n",
       "    <tr style=\"text-align: right;\">\n",
       "      <th></th>\n",
       "      <th>Year</th>\n",
       "      <th>Lag1</th>\n",
       "      <th>Lag2</th>\n",
       "      <th>Lag3</th>\n",
       "      <th>Lag4</th>\n",
       "      <th>Lag5</th>\n",
       "      <th>Volume</th>\n",
       "      <th>Today</th>\n",
       "      <th>Direction</th>\n",
       "    </tr>\n",
       "  </thead>\n",
       "  <tbody>\n",
       "    <tr>\n",
       "      <th>0</th>\n",
       "      <td>1990</td>\n",
       "      <td>0.816</td>\n",
       "      <td>1.572</td>\n",
       "      <td>-3.936</td>\n",
       "      <td>-0.229</td>\n",
       "      <td>-3.484</td>\n",
       "      <td>0.154976</td>\n",
       "      <td>-0.270</td>\n",
       "      <td>Down</td>\n",
       "    </tr>\n",
       "    <tr>\n",
       "      <th>1</th>\n",
       "      <td>1990</td>\n",
       "      <td>-0.270</td>\n",
       "      <td>0.816</td>\n",
       "      <td>1.572</td>\n",
       "      <td>-3.936</td>\n",
       "      <td>-0.229</td>\n",
       "      <td>0.148574</td>\n",
       "      <td>-2.576</td>\n",
       "      <td>Down</td>\n",
       "    </tr>\n",
       "    <tr>\n",
       "      <th>2</th>\n",
       "      <td>1990</td>\n",
       "      <td>-2.576</td>\n",
       "      <td>-0.270</td>\n",
       "      <td>0.816</td>\n",
       "      <td>1.572</td>\n",
       "      <td>-3.936</td>\n",
       "      <td>0.159837</td>\n",
       "      <td>3.514</td>\n",
       "      <td>Up</td>\n",
       "    </tr>\n",
       "    <tr>\n",
       "      <th>3</th>\n",
       "      <td>1990</td>\n",
       "      <td>3.514</td>\n",
       "      <td>-2.576</td>\n",
       "      <td>-0.270</td>\n",
       "      <td>0.816</td>\n",
       "      <td>1.572</td>\n",
       "      <td>0.161630</td>\n",
       "      <td>0.712</td>\n",
       "      <td>Up</td>\n",
       "    </tr>\n",
       "    <tr>\n",
       "      <th>4</th>\n",
       "      <td>1990</td>\n",
       "      <td>0.712</td>\n",
       "      <td>3.514</td>\n",
       "      <td>-2.576</td>\n",
       "      <td>-0.270</td>\n",
       "      <td>0.816</td>\n",
       "      <td>0.153728</td>\n",
       "      <td>1.178</td>\n",
       "      <td>Up</td>\n",
       "    </tr>\n",
       "  </tbody>\n",
       "</table>\n",
       "</div>"
      ],
      "text/plain": [
       "   Year   Lag1   Lag2   Lag3   Lag4   Lag5    Volume  Today Direction\n",
       "0  1990  0.816  1.572 -3.936 -0.229 -3.484  0.154976 -0.270      Down\n",
       "1  1990 -0.270  0.816  1.572 -3.936 -0.229  0.148574 -2.576      Down\n",
       "2  1990 -2.576 -0.270  0.816  1.572 -3.936  0.159837  3.514        Up\n",
       "3  1990  3.514 -2.576 -0.270  0.816  1.572  0.161630  0.712        Up\n",
       "4  1990  0.712  3.514 -2.576 -0.270  0.816  0.153728  1.178        Up"
      ]
     },
     "execution_count": 52,
     "metadata": {},
     "output_type": "execute_result"
    }
   ],
   "source": [
    "# 7. In Sections 5.3.2 and 5.3.3, we saw that the cv.glm() function can be used in order to compute the \n",
    "# LOOCV test error estimate. Alternatively, one could compute those quantities using just the glm() and \n",
    "# predict.glm() functions, and a for loop. You will now take this approach in order to compute the LOOCV \n",
    "# error for a simple logistic regression model on the Weekly data set.\n",
    "\n",
    "weekly = pd.read_csv('/home/abhishek/Desktop/ISLR-Applied-Exercises-in-Python/data/Weekly.csv')\n",
    "print(weekly.shape)\n",
    "weekly.head()"
   ]
  },
  {
   "cell_type": "code",
   "execution_count": 53,
   "metadata": {},
   "outputs": [],
   "source": [
    "weekly['Direction'] = weekly['Direction'].map({'Down':0, 'Up':1})"
   ]
  },
  {
   "cell_type": "code",
   "execution_count": 62,
   "metadata": {},
   "outputs": [],
   "source": [
    "# (a) Fit a logistic regression model that predicts Direction using Lag1 and Lag2.\n",
    "\n",
    "X = weekly[['Lag1', 'Lag2']]\n",
    "y = weekly['Direction']\n",
    "\n",
    "lr = LogisticRegression().fit(X, y)\n"
   ]
  },
  {
   "cell_type": "code",
   "execution_count": 64,
   "metadata": {},
   "outputs": [
    {
     "data": {
      "text/plain": [
       "LogisticRegression(C=1.0, class_weight=None, dual=False, fit_intercept=True,\n",
       "                   intercept_scaling=1, l1_ratio=None, max_iter=100,\n",
       "                   multi_class='auto', n_jobs=None, penalty='l2',\n",
       "                   random_state=None, solver='lbfgs', tol=0.0001, verbose=0,\n",
       "                   warm_start=False)"
      ]
     },
     "execution_count": 64,
     "metadata": {},
     "output_type": "execute_result"
    }
   ],
   "source": [
    "# (b) Fit a logistic regression model that predicts Direction using Lag1 and Lag2 using all but the first \n",
    "# observation.\n",
    "\n",
    "X = weekly[['Lag1', 'Lag2']].drop(0, axis = 0)\n",
    "y = weekly['Direction'].drop(0, axis=0)\n",
    "lr = LogisticRegression()\n",
    "lr.fit(X,y)"
   ]
  },
  {
   "cell_type": "code",
   "execution_count": 68,
   "metadata": {},
   "outputs": [
    {
     "name": "stdout",
     "output_type": "stream",
     "text": [
      "Predicted - 1, true value - 0\n"
     ]
    },
    {
     "data": {
      "text/plain": [
       "(    Lag1   Lag2\n",
       " 0  0.816  1.572,\n",
       " 0)"
      ]
     },
     "execution_count": 68,
     "metadata": {},
     "output_type": "execute_result"
    }
   ],
   "source": [
    "# (c) Use the model from (b) to predict the direction of the first observation. You can do this by predicting \n",
    "# that the first observation will go up if P(Direction=\"Up\"|Lag1, Lag2) > 0.5. Was this observation correctly \n",
    "# classified?\n",
    "\n",
    "X_test = weekly[['Lag1', 'Lag2']].loc[[0]]\n",
    "y_test = weekly['Direction'].loc[0]\n",
    "\n",
    "print(f'Predicted - {int(lr.predict(X_test))}, true value - {y_test}') # wrongly classified\n",
    "\n",
    "X_test, y_test"
   ]
  },
  {
   "cell_type": "code",
   "execution_count": 69,
   "metadata": {},
   "outputs": [],
   "source": [
    "# (d) Write a for loop from i = 1 to i = n, where n is the number of observations in the data set, that \n",
    "# performs each of the following steps:\n",
    "\n",
    "score = []\n",
    "for i in range(len(weekly)):\n",
    "    X = weekly[['Lag1','Lag2']].drop(i,axis = 0)\n",
    "    y = weekly['Direction'].drop(i,axis = 0)\n",
    "\n",
    "    lr = LogisticRegression()\n",
    "    lr.fit(X,y)\n",
    "    \n",
    "    X_test = weekly[['Lag1','Lag2']].loc[[i]]\n",
    "    y_test = weekly['Direction'].loc[i]\n",
    "    \n",
    "    pred = int(lr.predict(X_test))\n",
    "    score.append(int(pred == y_test))"
   ]
  },
  {
   "cell_type": "code",
   "execution_count": 70,
   "metadata": {},
   "outputs": [
    {
     "name": "stdout",
     "output_type": "stream",
     "text": [
      "Accuracy is  0.5500459136822773\n",
      "LOOCV error is  0.4499540863177227\n"
     ]
    }
   ],
   "source": [
    "# (e) Take the average of the n numbers obtained in (d)iv in order to obtain the LOOCV estimate for the \n",
    "# test error. Comment on the results.\n",
    "\n",
    "print('Accuracy is ',np.mean(score))\n",
    "print('LOOCV error is ',1 - np.mean(score))"
   ]
  },
  {
   "cell_type": "code",
   "execution_count": 1,
   "metadata": {},
   "outputs": [],
   "source": [
    "# 8. We will now perform cross-validation on a simulated data set."
   ]
  },
  {
   "cell_type": "code",
   "execution_count": 5,
   "metadata": {},
   "outputs": [],
   "source": [
    "# (a) Generate a simulated data set as follows:\n",
    "\n",
    "np.random.seed(1)\n",
    "y = np.random.normal(size = 100)\n",
    "X = np.random.normal(size = 100)\n",
    "y = X - 2*(X**2) + np.random.normal(size = 100)"
   ]
  },
  {
   "cell_type": "code",
   "execution_count": 6,
   "metadata": {},
   "outputs": [
    {
     "data": {
      "text/plain": [
       "Text(0.5, 1.0, 'Scatter Plot')"
      ]
     },
     "execution_count": 6,
     "metadata": {},
     "output_type": "execute_result"
    },
    {
     "data": {
      "image/png": "[encoded data removed]",
      "text/plain": [
       "<Figure size 432x288 with 1 Axes>"
      ]
     },
     "metadata": {
      "needs_background": "light"
     },
     "output_type": "display_data"
    }
   ],
   "source": [
    "# (b) Create a scatterplot of X against Y . Comment on what you find\n",
    "sns.scatterplot(X, y)\n",
    "plt.xlabel('X')\n",
    "plt.ylabel('y')\n",
    "\n",
    "plt.title('Scatter Plot')"
   ]
  },
  {
   "cell_type": "code",
   "execution_count": 7,
   "metadata": {},
   "outputs": [
    {
     "name": "stdout",
     "output_type": "stream",
     "text": [
      "For model 1, error: 8.292211622874765\n",
      "For model 2, error: 1.01709580703398\n",
      "For model 3, error: 1.046553456329668\n",
      "For model 4, error: 1.0574926712115125\n"
     ]
    }
   ],
   "source": [
    "# (c) Set a random seed, and then compute the LOOCV errors that result from fitting the following four models \n",
    "# using least squares:\n",
    "#i. Y = β0 + β1X + eps\n",
    "#ii. Y = β0 + β1X + β2X2 + eps\n",
    "#iii. Y = β0 + β1X + β2X2 + β3X3 + eps\n",
    "#iv. Y = β0 + β1X + β2X2 + β3X3 + β4X4 + eps\n",
    "\n",
    "np.random.seed(1)\n",
    "for i in range(1, 5):\n",
    "    poly = PolynomialFeatures(i, include_bias = False)\n",
    "    predictors = poly.fit_transform(X.reshape(-1,1))\n",
    "    \n",
    "    lr = LinearRegression()\n",
    "    error = -1*cross_val_score(lr, predictors, y, cv = len(X), scoring='neg_mean_squared_error' ).mean()\n",
    "    print(f\"For model {i}, error: {error}\")\n",
    "    "
   ]
  },
  {
   "cell_type": "code",
   "execution_count": 8,
   "metadata": {},
   "outputs": [],
   "source": [
    "# Best error value if for degree = 2, and since its stimulated data, we know that the real relationship is also \n",
    "# quadratic."
   ]
  },
  {
   "cell_type": "code",
   "execution_count": 9,
   "metadata": {},
   "outputs": [
    {
     "name": "stdout",
     "output_type": "stream",
     "text": [
      "For model 1, error: 8.292211622874765\n",
      "For model 2, error: 1.01709580703398\n",
      "For model 3, error: 1.046553456329668\n",
      "For model 4, error: 1.0574926712115125\n"
     ]
    }
   ],
   "source": [
    "# (d) Repeat (c) using another random seed, and report your results. Are your results the same as what you got \n",
    "# in (c)? Why?\n",
    "\n",
    "np.random.seed(5)\n",
    "for i in range(1, 5):\n",
    "    poly = PolynomialFeatures(i, include_bias = False)\n",
    "    predictors = poly.fit_transform(X.reshape(-1,1))\n",
    "    \n",
    "    lr = LinearRegression()\n",
    "    error = -1*cross_val_score(lr, predictors, y, cv = len(X), scoring='neg_mean_squared_error' ).mean()\n",
    "    print(f\"For model {i}, error: {error}\")"
   ]
  },
  {
   "cell_type": "code",
   "execution_count": 10,
   "metadata": {},
   "outputs": [],
   "source": [
    "# The results we got are absolutely the same, this is becaise there is no random sampling in LOOCV. Everytime, \n",
    "# we fit n models such that each time, model will be trained on n-1 observations, and than tested on a left \n",
    "# out observations.\n",
    "\n"
   ]
  },
  {
   "cell_type": "code",
   "execution_count": 11,
   "metadata": {},
   "outputs": [
    {
     "name": "stdout",
     "output_type": "stream",
     "text": [
      "                            OLS Regression Results                            \n",
      "==============================================================================\n",
      "Dep. Variable:                      y   R-squared:                       0.088\n",
      "Model:                            OLS   Adj. R-squared:                  0.079\n",
      "Method:                 Least Squares   F-statistic:                     9.460\n",
      "Date:                Mon, 09 Nov 2020   Prob (F-statistic):            0.00272\n",
      "Time:                        10:45:36   Log-Likelihood:                -242.69\n",
      "No. Observations:                 100   AIC:                             489.4\n",
      "Df Residuals:                      98   BIC:                             494.6\n",
      "Df Model:                           1                                         \n",
      "Covariance Type:            nonrobust                                         \n",
      "==============================================================================\n",
      "                 coef    std err          t      P>|t|      [0.025      0.975]\n",
      "------------------------------------------------------------------------------\n",
      "const         -1.7609      0.280     -6.278      0.000      -2.317      -1.204\n",
      "x1             0.9134      0.297      3.076      0.003       0.324       1.503\n",
      "==============================================================================\n",
      "Omnibus:                       40.887   Durbin-Watson:                   1.957\n",
      "Prob(Omnibus):                  0.000   Jarque-Bera (JB):               83.786\n",
      "Skew:                          -1.645   Prob(JB):                     6.40e-19\n",
      "Kurtosis:                       6.048   Cond. No.                         1.19\n",
      "==============================================================================\n",
      "\n",
      "Warnings:\n",
      "[1] Standard Errors assume that the covariance matrix of the errors is correctly specified.\n",
      "                            OLS Regression Results                            \n",
      "==============================================================================\n",
      "Dep. Variable:                      y   R-squared:                       0.882\n",
      "Model:                            OLS   Adj. R-squared:                  0.880\n",
      "Method:                 Least Squares   F-statistic:                     362.9\n",
      "Date:                Mon, 09 Nov 2020   Prob (F-statistic):           9.26e-46\n",
      "Time:                        10:45:36   Log-Likelihood:                -140.40\n",
      "No. Observations:                 100   AIC:                             286.8\n",
      "Df Residuals:                      97   BIC:                             294.6\n",
      "Df Model:                           2                                         \n",
      "Covariance Type:            nonrobust                                         \n",
      "==============================================================================\n",
      "                 coef    std err          t      P>|t|      [0.025      0.975]\n",
      "------------------------------------------------------------------------------\n",
      "const         -0.0216      0.122     -0.177      0.860      -0.264       0.221\n",
      "x1             1.2132      0.108     11.238      0.000       0.999       1.428\n",
      "x2            -2.0014      0.078    -25.561      0.000      -2.157      -1.846\n",
      "==============================================================================\n",
      "Omnibus:                        0.094   Durbin-Watson:                   2.221\n",
      "Prob(Omnibus):                  0.954   Jarque-Bera (JB):                0.009\n",
      "Skew:                          -0.022   Prob(JB):                        0.995\n",
      "Kurtosis:                       2.987   Cond. No.                         2.26\n",
      "==============================================================================\n",
      "\n",
      "Warnings:\n",
      "[1] Standard Errors assume that the covariance matrix of the errors is correctly specified.\n",
      "                            OLS Regression Results                            \n",
      "==============================================================================\n",
      "Dep. Variable:                      y   R-squared:                       0.883\n",
      "Model:                            OLS   Adj. R-squared:                  0.880\n",
      "Method:                 Least Squares   F-statistic:                     242.1\n",
      "Date:                Mon, 09 Nov 2020   Prob (F-statistic):           1.26e-44\n",
      "Time:                        10:45:36   Log-Likelihood:                -139.91\n",
      "No. Observations:                 100   AIC:                             287.8\n",
      "Df Residuals:                      96   BIC:                             298.2\n",
      "Df Model:                           3                                         \n",
      "Covariance Type:            nonrobust                                         \n",
      "==============================================================================\n",
      "                 coef    std err          t      P>|t|      [0.025      0.975]\n",
      "------------------------------------------------------------------------------\n",
      "const          0.0046      0.125      0.037      0.971      -0.244       0.253\n",
      "x1             1.0639      0.189      5.636      0.000       0.689       1.439\n",
      "x2            -2.0215      0.081    -24.938      0.000      -2.182      -1.861\n",
      "x3             0.0550      0.057      0.965      0.337      -0.058       0.168\n",
      "==============================================================================\n",
      "Omnibus:                        0.034   Durbin-Watson:                   2.253\n",
      "Prob(Omnibus):                  0.983   Jarque-Bera (JB):                0.050\n",
      "Skew:                           0.032   Prob(JB):                        0.975\n",
      "Kurtosis:                       2.911   Cond. No.                         6.55\n",
      "==============================================================================\n",
      "\n",
      "Warnings:\n",
      "[1] Standard Errors assume that the covariance matrix of the errors is correctly specified.\n",
      "                            OLS Regression Results                            \n",
      "==============================================================================\n",
      "Dep. Variable:                      y   R-squared:                       0.885\n",
      "Model:                            OLS   Adj. R-squared:                  0.880\n",
      "Method:                 Least Squares   F-statistic:                     182.4\n",
      "Date:                Mon, 09 Nov 2020   Prob (F-statistic):           1.13e-43\n",
      "Time:                        10:45:36   Log-Likelihood:                -139.24\n",
      "No. Observations:                 100   AIC:                             288.5\n",
      "Df Residuals:                      95   BIC:                             301.5\n",
      "Df Model:                           4                                         \n",
      "Covariance Type:            nonrobust                                         \n",
      "==============================================================================\n",
      "                 coef    std err          t      P>|t|      [0.025      0.975]\n",
      "------------------------------------------------------------------------------\n",
      "const          0.0866      0.144      0.600      0.550      -0.200       0.373\n",
      "x1             1.0834      0.189      5.724      0.000       0.708       1.459\n",
      "x2            -2.2455      0.214    -10.505      0.000      -2.670      -1.821\n",
      "x3             0.0436      0.058      0.755      0.452      -0.071       0.158\n",
      "x4             0.0482      0.043      1.132      0.260      -0.036       0.133\n",
      "==============================================================================\n",
      "Omnibus:                        0.102   Durbin-Watson:                   2.214\n",
      "Prob(Omnibus):                  0.950   Jarque-Bera (JB):                0.117\n",
      "Skew:                           0.069   Prob(JB):                        0.943\n",
      "Kurtosis:                       2.906   Cond. No.                         17.5\n",
      "==============================================================================\n",
      "\n",
      "Warnings:\n",
      "[1] Standard Errors assume that the covariance matrix of the errors is correctly specified.\n"
     ]
    }
   ],
   "source": [
    "# (f) Comment on the statistical significance of the coefficient estimates that results from fitting each of \n",
    "# the models in (c) using least squares. Do these results agree with the conclusions drawn based on the \n",
    "# cross-validation results?\n",
    "\n",
    "for i in range(1, 5):\n",
    "    poly = PolynomialFeatures(i)\n",
    "    predictors = poly.fit_transform(X.reshape(-1, 1))\n",
    "    \n",
    "    results = sm.OLS(y, predictors).fit()\n",
    "    print(results.summary())"
   ]
  },
  {
   "cell_type": "code",
   "execution_count": 12,
   "metadata": {},
   "outputs": [],
   "source": [
    "# from the above table we notice two things - \n",
    "# Firstly, value of adjusted R_square doesn;t increase after quadratic\n",
    "# Secondly, Only p values of X1 and X2 are significant\n",
    "# Hence the best model is quadratic model, which is what we got by observing the LOOCV values"
   ]
  },
  {
   "cell_type": "code",
   "execution_count": 14,
   "metadata": {},
   "outputs": [
    {
     "name": "stdout",
     "output_type": "stream",
     "text": [
      "(506, 14)\n"
     ]
    },
    {
     "data": {
      "text/html": [
       "<div>\n",
       "<style scoped>\n",
       "    .dataframe tbody tr th:only-of-type {\n",
       "        vertical-align: middle;\n",
       "    }\n",
       "\n",
       "    .dataframe tbody tr th {\n",
       "        vertical-align: top;\n",
       "    }\n",
       "\n",
       "    .dataframe thead th {\n",
       "        text-align: right;\n",
       "    }\n",
       "</style>\n",
       "<table border=\"1\" class=\"dataframe\">\n",
       "  <thead>\n",
       "    <tr style=\"text-align: right;\">\n",
       "      <th></th>\n",
       "      <th>CRIM</th>\n",
       "      <th>ZN</th>\n",
       "      <th>INDUS</th>\n",
       "      <th>CHAS</th>\n",
       "      <th>NOX</th>\n",
       "      <th>RM</th>\n",
       "      <th>AGE</th>\n",
       "      <th>DIS</th>\n",
       "      <th>RAD</th>\n",
       "      <th>TAX</th>\n",
       "      <th>PTRATIO</th>\n",
       "      <th>B</th>\n",
       "      <th>LSTAT</th>\n",
       "      <th>MEDV</th>\n",
       "    </tr>\n",
       "  </thead>\n",
       "  <tbody>\n",
       "    <tr>\n",
       "      <th>0</th>\n",
       "      <td>0.00632</td>\n",
       "      <td>18.0</td>\n",
       "      <td>2.31</td>\n",
       "      <td>0.0</td>\n",
       "      <td>0.538</td>\n",
       "      <td>6.575</td>\n",
       "      <td>65.2</td>\n",
       "      <td>4.0900</td>\n",
       "      <td>1.0</td>\n",
       "      <td>296.0</td>\n",
       "      <td>15.3</td>\n",
       "      <td>396.90</td>\n",
       "      <td>4.98</td>\n",
       "      <td>24.0</td>\n",
       "    </tr>\n",
       "    <tr>\n",
       "      <th>1</th>\n",
       "      <td>0.02731</td>\n",
       "      <td>0.0</td>\n",
       "      <td>7.07</td>\n",
       "      <td>0.0</td>\n",
       "      <td>0.469</td>\n",
       "      <td>6.421</td>\n",
       "      <td>78.9</td>\n",
       "      <td>4.9671</td>\n",
       "      <td>2.0</td>\n",
       "      <td>242.0</td>\n",
       "      <td>17.8</td>\n",
       "      <td>396.90</td>\n",
       "      <td>9.14</td>\n",
       "      <td>21.6</td>\n",
       "    </tr>\n",
       "    <tr>\n",
       "      <th>2</th>\n",
       "      <td>0.02729</td>\n",
       "      <td>0.0</td>\n",
       "      <td>7.07</td>\n",
       "      <td>0.0</td>\n",
       "      <td>0.469</td>\n",
       "      <td>7.185</td>\n",
       "      <td>61.1</td>\n",
       "      <td>4.9671</td>\n",
       "      <td>2.0</td>\n",
       "      <td>242.0</td>\n",
       "      <td>17.8</td>\n",
       "      <td>392.83</td>\n",
       "      <td>4.03</td>\n",
       "      <td>34.7</td>\n",
       "    </tr>\n",
       "    <tr>\n",
       "      <th>3</th>\n",
       "      <td>0.03237</td>\n",
       "      <td>0.0</td>\n",
       "      <td>2.18</td>\n",
       "      <td>0.0</td>\n",
       "      <td>0.458</td>\n",
       "      <td>6.998</td>\n",
       "      <td>45.8</td>\n",
       "      <td>6.0622</td>\n",
       "      <td>3.0</td>\n",
       "      <td>222.0</td>\n",
       "      <td>18.7</td>\n",
       "      <td>394.63</td>\n",
       "      <td>2.94</td>\n",
       "      <td>33.4</td>\n",
       "    </tr>\n",
       "    <tr>\n",
       "      <th>4</th>\n",
       "      <td>0.06905</td>\n",
       "      <td>0.0</td>\n",
       "      <td>2.18</td>\n",
       "      <td>0.0</td>\n",
       "      <td>0.458</td>\n",
       "      <td>7.147</td>\n",
       "      <td>54.2</td>\n",
       "      <td>6.0622</td>\n",
       "      <td>3.0</td>\n",
       "      <td>222.0</td>\n",
       "      <td>18.7</td>\n",
       "      <td>396.90</td>\n",
       "      <td>5.33</td>\n",
       "      <td>36.2</td>\n",
       "    </tr>\n",
       "  </tbody>\n",
       "</table>\n",
       "</div>"
      ],
      "text/plain": [
       "      CRIM    ZN  INDUS  CHAS    NOX     RM   AGE     DIS  RAD    TAX  \\\n",
       "0  0.00632  18.0   2.31   0.0  0.538  6.575  65.2  4.0900  1.0  296.0   \n",
       "1  0.02731   0.0   7.07   0.0  0.469  6.421  78.9  4.9671  2.0  242.0   \n",
       "2  0.02729   0.0   7.07   0.0  0.469  7.185  61.1  4.9671  2.0  242.0   \n",
       "3  0.03237   0.0   2.18   0.0  0.458  6.998  45.8  6.0622  3.0  222.0   \n",
       "4  0.06905   0.0   2.18   0.0  0.458  7.147  54.2  6.0622  3.0  222.0   \n",
       "\n",
       "   PTRATIO       B  LSTAT  MEDV  \n",
       "0     15.3  396.90   4.98  24.0  \n",
       "1     17.8  396.90   9.14  21.6  \n",
       "2     17.8  392.83   4.03  34.7  \n",
       "3     18.7  394.63   2.94  33.4  \n",
       "4     18.7  396.90   5.33  36.2  "
      ]
     },
     "execution_count": 14,
     "metadata": {},
     "output_type": "execute_result"
    }
   ],
   "source": [
    "# 9. We will now consider the Boston housing data set, from the MASS library.\n",
    "\n",
    "from sklearn.datasets import load_boston\n",
    "\n",
    "boston = load_boston()\n",
    "data = pd.DataFrame(boston.data, columns = boston.feature_names)\n",
    "data['MEDV'] = boston.target\n",
    "\n",
    "print(data.shape)\n",
    "data.head()"
   ]
  },
  {
   "cell_type": "code",
   "execution_count": 15,
   "metadata": {},
   "outputs": [
    {
     "name": "stdout",
     "output_type": "stream",
     "text": [
      "Estimated population mean is : 22.532806324110698\n"
     ]
    }
   ],
   "source": [
    "# (a) Based on this data set, provide an estimate for the population mean of medv. Call this estimate ˆμ.\n",
    "print(f\"Estimated population mean is : {np.mean(data['MEDV'])}\")"
   ]
  },
  {
   "cell_type": "code",
   "execution_count": 16,
   "metadata": {},
   "outputs": [
    {
     "name": "stdout",
     "output_type": "stream",
     "text": [
      "Estimation of std err is : 0.4084569346972867\n"
     ]
    }
   ],
   "source": [
    "# (b) Provide an estimate of the standard error of ˆμ. Interpret this result.\n",
    "print(f\"Estimation of std err is : {np.std(data['MEDV']) / np.sqrt(len(data))}\")"
   ]
  },
  {
   "cell_type": "code",
   "execution_count": 17,
   "metadata": {},
   "outputs": [],
   "source": [
    "# (c) Now estimate the standard error of ˆμ using the bootstrap. How does this compare to your answer from (b)?\n",
    "\n",
    "def boot(data, R):\n",
    "    medv = []\n",
    "    num_samles = 500\n",
    "    \n",
    "    for i in range(R):\n",
    "        indices = np.random.choice(data.index, num_samles, replace = True)\n",
    "        medv.append(data['MEDV'].loc[indices].mean())\n",
    "    bootstrap_statistics = {'estimated_value' : np.mean(medv), 'std_dev' : np.std(medv)}\n",
    "    return bootstrap_statistics"
   ]
  },
  {
   "cell_type": "code",
   "execution_count": 18,
   "metadata": {},
   "outputs": [
    {
     "name": "stdout",
     "output_type": "stream",
     "text": [
      "Bootstrap results {'estimated_value': 22.522781400000003, 'std_dev': 0.3997356650763605}\n"
     ]
    }
   ],
   "source": [
    "result = boot(data, 1000)\n",
    "print('Bootstrap results', result)"
   ]
  },
  {
   "cell_type": "code",
   "execution_count": 19,
   "metadata": {},
   "outputs": [],
   "source": [
    "# the value of standad error and mean is pretty much the same as we obtained eralier"
   ]
  },
  {
   "cell_type": "code",
   "execution_count": 20,
   "metadata": {},
   "outputs": [
    {
     "name": "stdout",
     "output_type": "stream",
     "text": [
      "With 95% confidence we can say that the interval is : [21.723310069847283,23.322252730152723]\n"
     ]
    }
   ],
   "source": [
    "#  d) Based on your bootstrap estimate from (c), provide a 95 % confidence interval for the mean of medv.\n",
    "\n",
    "mean = result['estimated_value']\n",
    "std = result['std_dev']\n",
    "\n",
    "print(f\"With 95% confidence we can say that the interval is : [{mean-2*std},{mean+2*std}]\")"
   ]
  },
  {
   "cell_type": "code",
   "execution_count": 21,
   "metadata": {},
   "outputs": [
    {
     "name": "stdout",
     "output_type": "stream",
     "text": [
      "Estimated value median is  21.2\n"
     ]
    }
   ],
   "source": [
    "# (e) Based on this data set, provide an estimate, ˆμmed, for the median value of medv in the population\n",
    "print('Estimated value median is ',np.median(data['MEDV']))"
   ]
  },
  {
   "cell_type": "code",
   "execution_count": 22,
   "metadata": {},
   "outputs": [],
   "source": [
    "# (f) We now would like to estimate the standard error of ˆμmed. Unfortunately, there is no simple formula for \n",
    "# computing the standard error of the median. Instead, estimate the standard error of the median using the \n",
    "# bootstrap. Comment on your findings.\n",
    "\n",
    "def boot(data,R):\n",
    "    median = []\n",
    "    num_samples = 500\n",
    "    for i in range(R):\n",
    "        indices = np.random.choice(data.index, num_samples, replace=True)\n",
    "        median.append(data['MEDV'].loc[indices].median())\n",
    "    bootstrap_statistics = {'estimated_value':np.mean(median),'std_dev':np.std(median)}   \n",
    "    return bootstrap_statistics\n"
   ]
  },
  {
   "cell_type": "code",
   "execution_count": 23,
   "metadata": {},
   "outputs": [
    {
     "name": "stdout",
     "output_type": "stream",
     "text": [
      "Boostrap Results for median are -  {'estimated_value': 21.1849, 'std_dev': 0.3725144158284345}\n"
     ]
    }
   ],
   "source": [
    "result = boot(data,1000)\n",
    "print('Boostrap Results for median are - ',result)"
   ]
  },
  {
   "cell_type": "code",
   "execution_count": 24,
   "metadata": {},
   "outputs": [],
   "source": [
    "# we can see that the mean we calculated earlier is very similar to the estimated value"
   ]
  },
  {
   "cell_type": "code",
   "execution_count": 25,
   "metadata": {},
   "outputs": [
    {
     "name": "stdout",
     "output_type": "stream",
     "text": [
      "Estimate for Quantile  -  12.75\n"
     ]
    }
   ],
   "source": [
    "# (g) Based on this data set, provide an estimate for the tenth percentile of medv in Boston suburbs.\n",
    "print('Estimate for Quantile  - ',data['MEDV'].quantile(0.1))"
   ]
  },
  {
   "cell_type": "code",
   "execution_count": 26,
   "metadata": {},
   "outputs": [
    {
     "name": "stdout",
     "output_type": "stream",
     "text": [
      "Boostrap Results for median are -  {'estimated_value': 12.73111, 'std_dev': 0.5124676261970116}\n"
     ]
    }
   ],
   "source": [
    "def boot(data,R):\n",
    "    ten_quantiles = []\n",
    "    num_samples = 500\n",
    "    for i in range(R):\n",
    "        indices = np.random.choice(data.index, num_samples, replace=True)\n",
    "        ten_quantiles.append(data['MEDV'].loc[indices].quantile(0.1))\n",
    "    bootstrap_statistics = {'estimated_value':np.mean(ten_quantiles),'std_dev':np.std(ten_quantiles)}   \n",
    "    return bootstrap_statistics\n",
    "\n",
    "result = boot(data,1000)\n",
    "print('Boostrap Results for median are - ',result)"
   ]
  },
  {
   "cell_type": "code",
   "execution_count": null,
   "metadata": {},
   "outputs": [],
   "source": []
  }
 ],
 "metadata": {
  "kernelspec": {
   "display_name": "Python 3",
   "language": "python",
   "name": "python3"
  },
  "language_info": {
   "codemirror_mode": {
    "name": "ipython",
    "version": 3
   },
   "file_extension": ".py",
   "mimetype": "text/x-python",
   "name": "python",
   "nbconvert_exporter": "python",
   "pygments_lexer": "ipython3",
   "version": "3.7.7"
  }
 },
 "nbformat": 4,
 "nbformat_minor": 4
}
