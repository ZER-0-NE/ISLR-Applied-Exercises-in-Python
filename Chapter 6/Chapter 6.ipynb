{
 "cells": [
  {
   "cell_type": "code",
   "execution_count": 1,
   "metadata": {},
   "outputs": [
    {
     "name": "stderr",
     "output_type": "stream",
     "text": [
      "/home/abhishek/anaconda3/envs/tf2/lib/python3.7/importlib/_bootstrap.py:219: RuntimeWarning: numpy.ufunc size changed, may indicate binary incompatibility. Expected 192 from C header, got 216 from PyObject\n",
      "  return f(*args, **kwds)\n",
      "/home/abhishek/anaconda3/envs/tf2/lib/python3.7/importlib/_bootstrap.py:219: RuntimeWarning: numpy.ufunc size changed, may indicate binary incompatibility. Expected 192 from C header, got 216 from PyObject\n",
      "  return f(*args, **kwds)\n",
      "/home/abhishek/anaconda3/envs/tf2/lib/python3.7/importlib/_bootstrap.py:219: RuntimeWarning: numpy.ufunc size changed, may indicate binary incompatibility. Expected 192 from C header, got 216 from PyObject\n",
      "  return f(*args, **kwds)\n",
      "/home/abhishek/anaconda3/envs/tf2/lib/python3.7/importlib/_bootstrap.py:219: RuntimeWarning: numpy.ufunc size changed, may indicate binary incompatibility. Expected 192 from C header, got 216 from PyObject\n",
      "  return f(*args, **kwds)\n"
     ]
    }
   ],
   "source": [
    "import pandas as pd\n",
    "import numpy as np\n",
    "\n",
    "from sklearn.decomposition import PCA\n",
    "from sklearn.cross_decomposition import PLSRegression\n",
    "from sklearn.preprocessing import PolynomialFeatures, StandardScaler\n",
    "from sklearn.linear_model import Lasso, LassoCV, LinearRegression, RidgeCV\n",
    "from sklearn.metrics import mean_squared_error, r2_score\n",
    "from sklearn.model_selection import cross_val_score, train_test_split\n",
    "\n",
    "import statsmodels.api as sm\n",
    "\n",
    "import matplotlib.pyplot as plt\n",
    "import seaborn as sns"
   ]
  },
  {
   "cell_type": "code",
   "execution_count": 2,
   "metadata": {},
   "outputs": [
    {
     "data": {
      "text/plain": [
       "(100,)"
      ]
     },
     "execution_count": 2,
     "metadata": {},
     "output_type": "execute_result"
    }
   ],
   "source": [
    "# 8. In this exercise, we will generate simulated data, and will then use this data to perform best subset \n",
    "# selection.\n",
    "\n",
    "# (a) Use the rnorm() function to generate a predictor X of length n = 100, as well as a noise vector  of \n",
    "# length n = 100.\n",
    "\n",
    "np.random.seed(1)\n",
    "\n",
    "X = np.random.randn(100)\n",
    "eps = np.random.randn(100)\n",
    "X.shape\n"
   ]
  },
  {
   "cell_type": "code",
   "execution_count": 3,
   "metadata": {},
   "outputs": [],
   "source": [
    "# (b) Generate a response vector Y of length n = 100 according to the model Y = β0 + β1X + β2X2 + β3X3 + eps\n",
    "\n",
    "# weights are of our choice\n",
    "beta = [3,4,2,1]\n",
    "Y = beta[0] + beta[1]*X + beta[2]*X**2 + beta[3]*X**3 + eps"
   ]
  },
  {
   "cell_type": "code",
   "execution_count": 7,
   "metadata": {},
   "outputs": [
    {
     "data": {
      "text/html": [
       "<div>\n",
       "<style scoped>\n",
       "    .dataframe tbody tr th:only-of-type {\n",
       "        vertical-align: middle;\n",
       "    }\n",
       "\n",
       "    .dataframe tbody tr th {\n",
       "        vertical-align: top;\n",
       "    }\n",
       "\n",
       "    .dataframe thead th {\n",
       "        text-align: right;\n",
       "    }\n",
       "</style>\n",
       "<table border=\"1\" class=\"dataframe\">\n",
       "  <thead>\n",
       "    <tr style=\"text-align: right;\">\n",
       "      <th></th>\n",
       "      <th>X1</th>\n",
       "      <th>X2</th>\n",
       "      <th>X3</th>\n",
       "      <th>X4</th>\n",
       "      <th>X5</th>\n",
       "      <th>X6</th>\n",
       "      <th>X7</th>\n",
       "      <th>X8</th>\n",
       "      <th>X9</th>\n",
       "      <th>X10</th>\n",
       "    </tr>\n",
       "  </thead>\n",
       "  <tbody>\n",
       "    <tr>\n",
       "      <th>0</th>\n",
       "      <td>1.624345</td>\n",
       "      <td>2.638498</td>\n",
       "      <td>4.285832</td>\n",
       "      <td>6.961671</td>\n",
       "      <td>11.308158</td>\n",
       "      <td>18.368354</td>\n",
       "      <td>29.836551</td>\n",
       "      <td>48.464863</td>\n",
       "      <td>78.723675</td>\n",
       "      <td>127.874436</td>\n",
       "    </tr>\n",
       "    <tr>\n",
       "      <th>1</th>\n",
       "      <td>-0.611756</td>\n",
       "      <td>0.374246</td>\n",
       "      <td>-0.228947</td>\n",
       "      <td>0.140060</td>\n",
       "      <td>-0.085683</td>\n",
       "      <td>0.052417</td>\n",
       "      <td>-0.032066</td>\n",
       "      <td>0.019617</td>\n",
       "      <td>-0.012001</td>\n",
       "      <td>0.007342</td>\n",
       "    </tr>\n",
       "    <tr>\n",
       "      <th>2</th>\n",
       "      <td>-0.528172</td>\n",
       "      <td>0.278965</td>\n",
       "      <td>-0.147342</td>\n",
       "      <td>0.077822</td>\n",
       "      <td>-0.041103</td>\n",
       "      <td>0.021710</td>\n",
       "      <td>-0.011466</td>\n",
       "      <td>0.006056</td>\n",
       "      <td>-0.003199</td>\n",
       "      <td>0.001689</td>\n",
       "    </tr>\n",
       "    <tr>\n",
       "      <th>3</th>\n",
       "      <td>-1.072969</td>\n",
       "      <td>1.151262</td>\n",
       "      <td>-1.235268</td>\n",
       "      <td>1.325403</td>\n",
       "      <td>-1.422116</td>\n",
       "      <td>1.525886</td>\n",
       "      <td>-1.637228</td>\n",
       "      <td>1.756694</td>\n",
       "      <td>-1.884878</td>\n",
       "      <td>2.022415</td>\n",
       "    </tr>\n",
       "    <tr>\n",
       "      <th>4</th>\n",
       "      <td>0.865408</td>\n",
       "      <td>0.748930</td>\n",
       "      <td>0.648130</td>\n",
       "      <td>0.560897</td>\n",
       "      <td>0.485404</td>\n",
       "      <td>0.420073</td>\n",
       "      <td>0.363534</td>\n",
       "      <td>0.314605</td>\n",
       "      <td>0.272262</td>\n",
       "      <td>0.235617</td>\n",
       "    </tr>\n",
       "  </tbody>\n",
       "</table>\n",
       "</div>"
      ],
      "text/plain": [
       "         X1        X2        X3        X4         X5         X6         X7  \\\n",
       "0  1.624345  2.638498  4.285832  6.961671  11.308158  18.368354  29.836551   \n",
       "1 -0.611756  0.374246 -0.228947  0.140060  -0.085683   0.052417  -0.032066   \n",
       "2 -0.528172  0.278965 -0.147342  0.077822  -0.041103   0.021710  -0.011466   \n",
       "3 -1.072969  1.151262 -1.235268  1.325403  -1.422116   1.525886  -1.637228   \n",
       "4  0.865408  0.748930  0.648130  0.560897   0.485404   0.420073   0.363534   \n",
       "\n",
       "          X8         X9         X10  \n",
       "0  48.464863  78.723675  127.874436  \n",
       "1   0.019617  -0.012001    0.007342  \n",
       "2   0.006056  -0.003199    0.001689  \n",
       "3   1.756694  -1.884878    2.022415  \n",
       "4   0.314605   0.272262    0.235617  "
      ]
     },
     "execution_count": 7,
     "metadata": {},
     "output_type": "execute_result"
    }
   ],
   "source": [
    "poly = PolynomialFeatures(10, include_bias = False)\n",
    "predictors = poly.fit_transform(pd.DataFrame({'X': X}))\n",
    "predictors = pd.DataFrame(predictors)\n",
    "col = ['X' + str(i) for i in range(1, 11)]\n",
    "predictors.columns = col\n",
    "predictors.head()"
   ]
  },
  {
   "cell_type": "code",
   "execution_count": 8,
   "metadata": {},
   "outputs": [],
   "source": [
    "def fit_linear_reg(X, Y):\n",
    "    # Fit LR model and return RSS and R-squared values\n",
    "    X = sm.add_constant(X)\n",
    "    model = sm.OLS(Y,X).fit()\n",
    "    \n",
    "    return model.ssr, model.rsquared, model\n",
    "\n",
    "from tqdm import tnrange, tqdm_notebook\n",
    "from itertools import combinations\n",
    "\n",
    "def run_subset_selection(X, y):\n",
    "    # initialization variables\n",
    "    RSS_list, R_squared_list, feature_list = [], [], []\n",
    "    aic_list, bic_list, adj_r_squared_list = [], [], []\n",
    "    numb_features = []\n",
    "    \n",
    "    # Looping over k = 1 to k = 11 features in X\n",
    "    for k in tnrange(1, len(X.columns) + 1, desc = 'Loop...'):\n",
    "        best_features, best_RSS, best_r2, best_model = None, None, 0, None\n",
    "        \n",
    "        # Looping over all possible combinations\n",
    "        for combo in combinations(X.columns, k):\n",
    "            tmp_result = fit_linear_reg(X[list(combo)], Y) # store temp result\n",
    "            r2 = tmp_result[1]\n",
    "            \n",
    "            if r2 > best_r2:\n",
    "                best_features = combo\n",
    "                best_RSS = tmp_result[0]\n",
    "                best_r2 = tmp_result[1]\n",
    "                best_model = tmp_result[2]\n",
    "                \n",
    "        RSS_list.append(best_RSS)\n",
    "        R_squared_list.append(best_r2)\n",
    "        feature_list.append(best_features)\n",
    "        numb_features.append(len(best_features))\n",
    "        aic_list.append(best_model.aic)\n",
    "        bic_list.append(best_model.bic)\n",
    "        adj_r_squared_list.append(best_model.rsquared_adj)\n",
    "    \n",
    "    # store in df\n",
    "    df = pd.DataFrame({'numb_features': numb_features, 'RSS': RSS_list, 'R_squared': R_squared_list,\n",
    "                      'AIC': aic_list, 'BIC': bic_list, 'adj_r2': adj_r_squared_list, 'features': feature_list})\n",
    "    \n",
    "    return df"
   ]
  },
  {
   "cell_type": "code",
   "execution_count": 12,
   "metadata": {},
   "outputs": [
    {
     "name": "stderr",
     "output_type": "stream",
     "text": [
      "/home/abhishek/anaconda3/envs/tf2/lib/python3.7/site-packages/ipykernel_launcher.py:18: TqdmDeprecationWarning: Please use `tqdm.notebook.trange` instead of `tqdm.tnrange`\n"
     ]
    },
    {
     "data": {
      "application/vnd.jupyter.widget-view+json": {
       "model_id": "e8160a3d7d1b4ff3a12f9946601e28c5",
       "version_major": 2,
       "version_minor": 0
      },
      "text/plain": [
       "HBox(children=(FloatProgress(value=0.0, description='Loop...', max=10.0, style=ProgressStyle(description_width…"
      ]
     },
     "metadata": {},
     "output_type": "display_data"
    },
    {
     "name": "stdout",
     "output_type": "stream",
     "text": [
      "\n"
     ]
    }
   ],
   "source": [
    "best_subset_results = run_subset_selection(predictors, Y)"
   ]
  },
  {
   "cell_type": "code",
   "execution_count": 13,
   "metadata": {},
   "outputs": [
    {
     "data": {
      "text/html": [
       "<div>\n",
       "<style scoped>\n",
       "    .dataframe tbody tr th:only-of-type {\n",
       "        vertical-align: middle;\n",
       "    }\n",
       "\n",
       "    .dataframe tbody tr th {\n",
       "        vertical-align: top;\n",
       "    }\n",
       "\n",
       "    .dataframe thead th {\n",
       "        text-align: right;\n",
       "    }\n",
       "</style>\n",
       "<table border=\"1\" class=\"dataframe\">\n",
       "  <thead>\n",
       "    <tr style=\"text-align: right;\">\n",
       "      <th></th>\n",
       "      <th>numb_features</th>\n",
       "      <th>RSS</th>\n",
       "      <th>R_squared</th>\n",
       "      <th>AIC</th>\n",
       "      <th>BIC</th>\n",
       "      <th>adj_r2</th>\n",
       "      <th>features</th>\n",
       "    </tr>\n",
       "  </thead>\n",
       "  <tbody>\n",
       "    <tr>\n",
       "      <th>0</th>\n",
       "      <td>1</td>\n",
       "      <td>771.612854</td>\n",
       "      <td>0.819633</td>\n",
       "      <td>492.118982</td>\n",
       "      <td>497.329322</td>\n",
       "      <td>0.817793</td>\n",
       "      <td>(X1,)</td>\n",
       "    </tr>\n",
       "    <tr>\n",
       "      <th>1</th>\n",
       "      <td>2</td>\n",
       "      <td>329.558323</td>\n",
       "      <td>0.922965</td>\n",
       "      <td>409.046022</td>\n",
       "      <td>416.861533</td>\n",
       "      <td>0.921376</td>\n",
       "      <td>(X1, X2)</td>\n",
       "    </tr>\n",
       "    <tr>\n",
       "      <th>2</th>\n",
       "      <td>3</td>\n",
       "      <td>84.811563</td>\n",
       "      <td>0.980175</td>\n",
       "      <td>275.313877</td>\n",
       "      <td>285.734557</td>\n",
       "      <td>0.979556</td>\n",
       "      <td>(X1, X2, X3)</td>\n",
       "    </tr>\n",
       "    <tr>\n",
       "      <th>3</th>\n",
       "      <td>4</td>\n",
       "      <td>79.800246</td>\n",
       "      <td>0.981346</td>\n",
       "      <td>271.223347</td>\n",
       "      <td>284.249198</td>\n",
       "      <td>0.980561</td>\n",
       "      <td>(X1, X2, X3, X6)</td>\n",
       "    </tr>\n",
       "    <tr>\n",
       "      <th>4</th>\n",
       "      <td>5</td>\n",
       "      <td>79.446732</td>\n",
       "      <td>0.981429</td>\n",
       "      <td>272.779363</td>\n",
       "      <td>288.410385</td>\n",
       "      <td>0.980441</td>\n",
       "      <td>(X1, X2, X3, X8, X10)</td>\n",
       "    </tr>\n",
       "    <tr>\n",
       "      <th>5</th>\n",
       "      <td>6</td>\n",
       "      <td>77.901340</td>\n",
       "      <td>0.981790</td>\n",
       "      <td>272.815004</td>\n",
       "      <td>291.051195</td>\n",
       "      <td>0.980616</td>\n",
       "      <td>(X1, X2, X5, X7, X8, X9)</td>\n",
       "    </tr>\n",
       "    <tr>\n",
       "      <th>6</th>\n",
       "      <td>7</td>\n",
       "      <td>77.535196</td>\n",
       "      <td>0.981876</td>\n",
       "      <td>274.343886</td>\n",
       "      <td>295.185248</td>\n",
       "      <td>0.980497</td>\n",
       "      <td>(X1, X2, X3, X5, X7, X9, X10)</td>\n",
       "    </tr>\n",
       "    <tr>\n",
       "      <th>7</th>\n",
       "      <td>8</td>\n",
       "      <td>77.090698</td>\n",
       "      <td>0.981980</td>\n",
       "      <td>275.768950</td>\n",
       "      <td>299.215482</td>\n",
       "      <td>0.980396</td>\n",
       "      <td>(X1, X2, X3, X4, X5, X6, X7, X9)</td>\n",
       "    </tr>\n",
       "    <tr>\n",
       "      <th>8</th>\n",
       "      <td>9</td>\n",
       "      <td>76.794677</td>\n",
       "      <td>0.982049</td>\n",
       "      <td>277.384221</td>\n",
       "      <td>303.435923</td>\n",
       "      <td>0.980254</td>\n",
       "      <td>(X1, X2, X4, X5, X6, X7, X8, X9, X10)</td>\n",
       "    </tr>\n",
       "    <tr>\n",
       "      <th>9</th>\n",
       "      <td>10</td>\n",
       "      <td>76.498124</td>\n",
       "      <td>0.982118</td>\n",
       "      <td>278.997310</td>\n",
       "      <td>307.654182</td>\n",
       "      <td>0.980109</td>\n",
       "      <td>(X1, X2, X3, X4, X5, X6, X7, X8, X9, X10)</td>\n",
       "    </tr>\n",
       "  </tbody>\n",
       "</table>\n",
       "</div>"
      ],
      "text/plain": [
       "   numb_features         RSS  R_squared         AIC         BIC    adj_r2  \\\n",
       "0              1  771.612854   0.819633  492.118982  497.329322  0.817793   \n",
       "1              2  329.558323   0.922965  409.046022  416.861533  0.921376   \n",
       "2              3   84.811563   0.980175  275.313877  285.734557  0.979556   \n",
       "3              4   79.800246   0.981346  271.223347  284.249198  0.980561   \n",
       "4              5   79.446732   0.981429  272.779363  288.410385  0.980441   \n",
       "5              6   77.901340   0.981790  272.815004  291.051195  0.980616   \n",
       "6              7   77.535196   0.981876  274.343886  295.185248  0.980497   \n",
       "7              8   77.090698   0.981980  275.768950  299.215482  0.980396   \n",
       "8              9   76.794677   0.982049  277.384221  303.435923  0.980254   \n",
       "9             10   76.498124   0.982118  278.997310  307.654182  0.980109   \n",
       "\n",
       "                                    features  \n",
       "0                                      (X1,)  \n",
       "1                                   (X1, X2)  \n",
       "2                               (X1, X2, X3)  \n",
       "3                           (X1, X2, X3, X6)  \n",
       "4                      (X1, X2, X3, X8, X10)  \n",
       "5                   (X1, X2, X5, X7, X8, X9)  \n",
       "6              (X1, X2, X3, X5, X7, X9, X10)  \n",
       "7           (X1, X2, X3, X4, X5, X6, X7, X9)  \n",
       "8      (X1, X2, X4, X5, X6, X7, X8, X9, X10)  \n",
       "9  (X1, X2, X3, X4, X5, X6, X7, X8, X9, X10)  "
      ]
     },
     "execution_count": 13,
     "metadata": {},
     "output_type": "execute_result"
    }
   ],
   "source": [
    "best_subset_results"
   ]
  },
  {
   "cell_type": "code",
   "execution_count": 14,
   "metadata": {},
   "outputs": [
    {
     "name": "stdout",
     "output_type": "stream",
     "text": [
      "The best model according to adjR2 is model having features -  6\n",
      "The best model according to AIC is model having features -  4\n",
      "The best model according to BIC is model having features -  4\n"
     ]
    }
   ],
   "source": [
    "print('The best model according to adjR2 is model having features - ',\n",
    "      best_subset_results.sort_values('adj_r2',ascending=False)['numb_features'].values[0],\n",
    "     )\n",
    "print('The best model according to AIC is model having features - ',\n",
    "      best_subset_results.sort_values('AIC',ascending=True)['numb_features'].values[0])\n",
    "print('The best model according to BIC is model having features - ',\n",
    "      best_subset_results.sort_values('BIC',ascending=True)['numb_features'].values[0])\n",
    "\n",
    "# we can see that using different metrics can give us different outcomes, althuohg what we will observe is that \n",
    "# AIC and BIC will give us similar results"
   ]
  },
  {
   "cell_type": "code",
   "execution_count": 19,
   "metadata": {},
   "outputs": [
    {
     "data": {
      "image/png": "[encoded data removed]",
      "text/plain": [
       "<Figure size 1296x288 with 3 Axes>"
      ]
     },
     "metadata": {
      "needs_background": "light"
     },
     "output_type": "display_data"
    }
   ],
   "source": [
    "def plot_results(df):\n",
    "    fig, (a1, a2, a3) = plt.subplots(1,3, figsize = (18, 4))\n",
    "    a1.plot(df['numb_features'], df['AIC'], marker = 'o')\n",
    "    a1.axhline(y = min(df['AIC']), linestyle = 'dashed', linewidth = 0.8, color = 'black')\n",
    "    a1.axvline(x = df.sort_values('AIC', ascending = True)['numb_features'].values[0], color = 'black',\n",
    "               linestyle = 'dashed', linewidth = 0.8)\n",
    "    a1.set_title('AIC')\n",
    "    a1.set_xlabel('Number of features')\n",
    "    a1.set_ylabel('AIC Values')\n",
    "    \n",
    "    a2.plot(df['numb_features'], df['BIC'], marker = 'o')\n",
    "    a2.axhline(y = min(df['BIC']), linestyle = 'dashed', marker = 'o')\n",
    "    a2.axvline(x = df.sort_values('BIC', ascending = True)['numb_features'].values[0], color = 'black',\n",
    "              linestyle = 'dashed', linewidth = 0.8)\n",
    "    a2.set_title('BIC')\n",
    "    a2.set_xlabel('Number of features')\n",
    "    a2.set_ylabel('BIC Values')\n",
    "    \n",
    "    a3.plot(df['numb_features'], df['adj_r2'], marker = 'o')\n",
    "    a3.axhline(y = max(df['adj_r2']), linestyle = 'dashed', linewidth = 0.8, color = 'black')\n",
    "    a3.axvline(x = df.sort_values('adj_r2', ascending = False)['numb_features'].values[0], color = 'black',\n",
    "               linestyle = 'dashed', linewidth = 0.8)\n",
    "    a3.set_title('Adjusted R-squared')\n",
    "    a3.set_xlabel('Number of features')\n",
    "    a3.set_ylabel('Adj R-sqaured')\n",
    "\n",
    "plot_results(best_subset_results)"
   ]
  },
  {
   "cell_type": "code",
   "execution_count": 20,
   "metadata": {},
   "outputs": [
    {
     "name": "stdout",
     "output_type": "stream",
     "text": [
      "Features choosen by AIC  ['X1', 'X2', 'X3', 'X6']\n",
      "Features choosen by BIC  ['X1', 'X2', 'X3', 'X6']\n",
      "Features choosen by adj_r2  ['X1', 'X2', 'X3', 'X5', 'X7', 'X9', 'X10']\n"
     ]
    }
   ],
   "source": [
    "print('Features choosen by AIC ',list(best_subset_results['features'][3]))\n",
    "print('Features choosen by BIC ',list(best_subset_results['features'][3]))\n",
    "print('Features choosen by adj_r2 ',list(best_subset_results['features'][6]))"
   ]
  },
  {
   "cell_type": "code",
   "execution_count": null,
   "metadata": {},
   "outputs": [],
   "source": [
    "# (d) Repeat (c), using forward stepwise selection and also using backwards stepwise selection. How does your \n",
    "# answer compare to the results in (c)?\n",
    "\n"
   ]
  }
 ],
 "metadata": {
  "kernelspec": {
   "display_name": "Python 3",
   "language": "python",
   "name": "python3"
  },
  "language_info": {
   "codemirror_mode": {
    "name": "ipython",
    "version": 3
   },
   "file_extension": ".py",
   "mimetype": "text/x-python",
   "name": "python",
   "nbconvert_exporter": "python",
   "pygments_lexer": "ipython3",
   "version": "3.7.7"
  }
 },
 "nbformat": 4,
 "nbformat_minor": 4
}
